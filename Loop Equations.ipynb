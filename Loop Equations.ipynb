{
 "cells": [
  {
   "cell_type": "code",
   "execution_count": 2,
   "metadata": {},
   "outputs": [],
   "source": [
    "import numpy as np\n",
    "import matplotlib.pyplot as plt\n",
    "import networkx as nx"
   ]
  },
  {
   "cell_type": "code",
   "execution_count": 3,
   "metadata": {},
   "outputs": [],
   "source": [
    "A2=np.array([[ 0,  1,  0,  1,  0,  0,  0,  0],\n",
    "             [ 1,  0,  1,  0,  1,  0,  0,  0],\n",
    "             [ 0,  1,  0,  0,  0,  1,  0,  0],\n",
    "             [ 1,  0,  0,  0,  1,  0,  1,  0],\n",
    "             [ 0,  1,  0,  1,  0,  1,  1,  0],\n",
    "             [ 0,  0,  1,  0,  1,  0,  0,  1],\n",
    "             [ 0,  0,  0,  1,  1,  0,  0,  1],\n",
    "             [ 0,  0,  0,  0,  0,  1,  1,  0]])"
   ]
  },
  {
   "cell_type": "code",
   "execution_count": 4,
   "metadata": {},
   "outputs": [],
   "source": [
    "def draw_graph(A):\n",
    "    plt.figure()\n",
    "    g = nx.Graph()\n",
    "    for i in range(A.shape[0]):\n",
    "        for j in range(A.shape[0]):\n",
    "            if i<=j:\n",
    "                if A[i,j] == 1:\n",
    "                    g.add_edge(i+1,j+1)\n",
    "    nx.draw_spectral(g, with_labels=True)\n"
   ]
  },
  {
   "cell_type": "code",
   "execution_count": 5,
   "metadata": {},
   "outputs": [],
   "source": [
    "def convert_adjacency(A):\n",
    "    graph = []\n",
    "    for i in range(A.shape[0]):\n",
    "        for j in range(A.shape[0]):\n",
    "            if i <= j:\n",
    "                if A[i,j] == 1:\n",
    "                    graph.append([i+1,j+1])\n",
    "    return graph"
   ]
  },
  {
   "cell_type": "code",
   "execution_count": 6,
   "metadata": {
    "scrolled": true
   },
   "outputs": [
    {
     "name": "stdout",
     "output_type": "stream",
     "text": [
      "1,4,5,6,3,2\n",
      "1,4,7,5,6,3,2\n",
      "1,4,7,8,6,3,2\n",
      "1,4,5,7,8,6,3,2\n",
      "1,4,5,2\n",
      "1,4,7,8,6,5,2\n",
      "1,4,7,5,2\n",
      "2,5,6,3\n",
      "2,5,4,7,8,6,3\n",
      "2,5,7,8,6,3\n",
      "4,7,8,6,5\n",
      "4,7,5\n",
      "5,7,8,6\n"
     ]
    }
   ],
   "source": [
    "graph = convert_adjacency(A2)\n",
    "cycles = []\n",
    "def main():\n",
    "    global graph  \n",
    "    global cycles\n",
    "    for edge in graph:\n",
    "        for node in edge:\n",
    "            findNewCycles([node])\n",
    "#     return cycles\n",
    "    for cy in cycles:\n",
    "        path = [str(node) for node in cy]\n",
    "        s = \",\".join(path)\n",
    "        print(s)\n",
    "\n",
    "def findNewCycles(path):\n",
    "    start_node = path[0]\n",
    "    next_node= None\n",
    "    sub = []\n",
    "\n",
    "    #visit each edge and each node of each edge\n",
    "    for edge in graph:\n",
    "        node1, node2 = edge\n",
    "        if start_node in edge:\n",
    "                if node1 == start_node:\n",
    "                    next_node = node2\n",
    "                else:\n",
    "                    next_node = node1\n",
    "                if not visited(next_node, path):\n",
    "                        # neighbor node not on path yet\n",
    "                        sub = [next_node]\n",
    "                        sub.extend(path)\n",
    "                        # explore extended path\n",
    "                        findNewCycles(sub);\n",
    "                elif len(path) > 2  and next_node == path[-1]:\n",
    "                        # cycle found\n",
    "                        p = rotate_to_smallest(path);\n",
    "                        inv = invert(p)\n",
    "                        if isNew(p) and isNew(inv):\n",
    "                            cycles.append(p)\n",
    "\n",
    "def invert(path):\n",
    "    return rotate_to_smallest(path[::-1])\n",
    "\n",
    "#  rotate cycle path such that it begins with the smallest node\n",
    "def rotate_to_smallest(path):\n",
    "    n = path.index(min(path))\n",
    "    return path[n:]+path[:n]\n",
    "\n",
    "def isNew(path):\n",
    "    return not path in cycles\n",
    "\n",
    "def visited(node, path):\n",
    "    return node in path\n",
    "\n",
    "main()"
   ]
  },
  {
   "cell_type": "code",
   "execution_count": null,
   "metadata": {},
   "outputs": [],
   "source": []
  },
  {
   "cell_type": "code",
   "execution_count": 7,
   "metadata": {},
   "outputs": [
    {
     "data": {
      "text/plain": [
       "[[4, 7, 5],\n",
       " [1, 4, 5, 2],\n",
       " [2, 5, 6, 3],\n",
       " [5, 7, 8, 6],\n",
       " [1, 4, 7, 5, 2],\n",
       " [4, 7, 8, 6, 5],\n",
       " [1, 4, 5, 6, 3, 2],\n",
       " [2, 5, 7, 8, 6, 3],\n",
       " [1, 4, 7, 5, 6, 3, 2],\n",
       " [1, 4, 7, 8, 6, 3, 2],\n",
       " [1, 4, 7, 8, 6, 5, 2],\n",
       " [2, 5, 4, 7, 8, 6, 3],\n",
       " [1, 4, 5, 7, 8, 6, 3, 2]]"
      ]
     },
     "execution_count": 7,
     "metadata": {},
     "output_type": "execute_result"
    }
   ],
   "source": [
    "cycles.sort(key=len)\n",
    "cycles"
   ]
  },
  {
   "cell_type": "code",
   "execution_count": 8,
   "metadata": {},
   "outputs": [],
   "source": [
    "def select_fundamental_cycles(cycles):\n",
    "    fundamental_cycle_set = []\n",
    "    cycles.sort(key=len)\n",
    "    for i in range(len(cycles)):\n",
    "        if(i<4):\n",
    "            fundamental_cycle_set.append(cycles[i])\n",
    "    return fundamental_cycle_set  "
   ]
  },
  {
   "cell_type": "code",
   "execution_count": 9,
   "metadata": {},
   "outputs": [
    {
     "data": {
      "text/plain": [
       "[[4, 7, 5], [1, 4, 5, 2], [2, 5, 6, 3], [5, 7, 8, 6]]"
      ]
     },
     "execution_count": 9,
     "metadata": {},
     "output_type": "execute_result"
    }
   ],
   "source": [
    "sets = select_fundamental_cycles(cycles)\n",
    "sets"
   ]
  },
  {
   "cell_type": "code",
   "execution_count": 10,
   "metadata": {},
   "outputs": [],
   "source": [
    "def extend_length(sets):\n",
    "    \n",
    "    for i in range(len(sets)):\n",
    "        for j in range(8-len(sets[i])):\n",
    "             sets[i].extend([0])\n",
    "    return sets"
   ]
  },
  {
   "cell_type": "code",
   "execution_count": 11,
   "metadata": {},
   "outputs": [
    {
     "data": {
      "text/plain": [
       "[[4, 7, 5, 0, 0, 0, 0, 0],\n",
       " [1, 4, 5, 2, 0, 0, 0, 0],\n",
       " [2, 5, 6, 3, 0, 0, 0, 0],\n",
       " [5, 7, 8, 6, 0, 0, 0, 0]]"
      ]
     },
     "execution_count": 11,
     "metadata": {},
     "output_type": "execute_result"
    }
   ],
   "source": [
    "c = extend_length(sets)\n",
    "c"
   ]
  },
  {
   "cell_type": "code",
   "execution_count": 12,
   "metadata": {},
   "outputs": [],
   "source": [
    "def convert_to_adjacency(cycles, A):\n",
    "    \n",
    "    no_of_cycles = len(cycles)\n",
    "    no_of_vertices = (A.shape[0])\n",
    "    \n",
    "    MD = {}\n",
    "\n",
    "    for k in range(len(cycles)):\n",
    "        MD['M'+str(k)] = np.zeros((no_of_vertices,no_of_vertices))\n",
    "        for j in range(no_of_vertices):\n",
    "            if(cycles[k][j]!=0):\n",
    "                if(cycles[k][j+1]!=0):\n",
    "                    MD[\"M\"+str(k)][cycles[k][j]-1][cycles[k][j+1]-1] = 1\n",
    "                    MD[\"M\"+str(k)][cycles[k][j+1]-1][cycles[k][j]-1] = 1\n",
    "                else:\n",
    "                    MD[\"M\"+str(k)][cycles[k][j]-1][cycles[k][0]-1] = 1\n",
    "                    MD[\"M\"+str(k)][cycles[k][0]-1][cycles[k][j]-1] = 1  \n",
    "                    \n",
    "    return MD"
   ]
  },
  {
   "cell_type": "code",
   "execution_count": 13,
   "metadata": {},
   "outputs": [],
   "source": [
    "MD = convert_to_adjacency(c, A2)"
   ]
  },
  {
   "cell_type": "code",
   "execution_count": 14,
   "metadata": {},
   "outputs": [
    {
     "data": {
      "text/plain": [
       "{'M0': array([[0., 0., 0., 0., 0., 0., 0., 0.],\n",
       "        [0., 0., 0., 0., 0., 0., 0., 0.],\n",
       "        [0., 0., 0., 0., 0., 0., 0., 0.],\n",
       "        [0., 0., 0., 0., 1., 0., 1., 0.],\n",
       "        [0., 0., 0., 1., 0., 0., 1., 0.],\n",
       "        [0., 0., 0., 0., 0., 0., 0., 0.],\n",
       "        [0., 0., 0., 1., 1., 0., 0., 0.],\n",
       "        [0., 0., 0., 0., 0., 0., 0., 0.]]),\n",
       " 'M1': array([[0., 1., 0., 1., 0., 0., 0., 0.],\n",
       "        [1., 0., 0., 0., 1., 0., 0., 0.],\n",
       "        [0., 0., 0., 0., 0., 0., 0., 0.],\n",
       "        [1., 0., 0., 0., 1., 0., 0., 0.],\n",
       "        [0., 1., 0., 1., 0., 0., 0., 0.],\n",
       "        [0., 0., 0., 0., 0., 0., 0., 0.],\n",
       "        [0., 0., 0., 0., 0., 0., 0., 0.],\n",
       "        [0., 0., 0., 0., 0., 0., 0., 0.]]),\n",
       " 'M2': array([[0., 0., 0., 0., 0., 0., 0., 0.],\n",
       "        [0., 0., 1., 0., 1., 0., 0., 0.],\n",
       "        [0., 1., 0., 0., 0., 1., 0., 0.],\n",
       "        [0., 0., 0., 0., 0., 0., 0., 0.],\n",
       "        [0., 1., 0., 0., 0., 1., 0., 0.],\n",
       "        [0., 0., 1., 0., 1., 0., 0., 0.],\n",
       "        [0., 0., 0., 0., 0., 0., 0., 0.],\n",
       "        [0., 0., 0., 0., 0., 0., 0., 0.]]),\n",
       " 'M3': array([[0., 0., 0., 0., 0., 0., 0., 0.],\n",
       "        [0., 0., 0., 0., 0., 0., 0., 0.],\n",
       "        [0., 0., 0., 0., 0., 0., 0., 0.],\n",
       "        [0., 0., 0., 0., 0., 0., 0., 0.],\n",
       "        [0., 0., 0., 0., 0., 1., 1., 0.],\n",
       "        [0., 0., 0., 0., 1., 0., 0., 1.],\n",
       "        [0., 0., 0., 0., 1., 0., 0., 1.],\n",
       "        [0., 0., 0., 0., 0., 1., 1., 0.]])}"
      ]
     },
     "execution_count": 14,
     "metadata": {},
     "output_type": "execute_result"
    }
   ],
   "source": [
    "MD"
   ]
  },
  {
   "cell_type": "code",
   "execution_count": 15,
   "metadata": {},
   "outputs": [
    {
     "name": "stdout",
     "output_type": "stream",
     "text": [
      "[[0 10 0 0 0 0 0 0]\n",
      " [10 0 20 0 200 0 0 0]\n",
      " [0 20 0 0 0 0 0 0]\n",
      " [0 0 0 0 100 0 0 0]\n",
      " [0 200 0 100 0 100 210 0]\n",
      " [0 0 0 0 100 0 0 0]\n",
      " [0 0 0 0 210 0 0 20]\n",
      " [0 0 0 0 0 0 20 0]]\n"
     ]
    }
   ],
   "source": [
    "R = np.zeros((8,8),dtype='object')\n",
    "R[0,1] = 10\n",
    "R[1,2] = 20\n",
    "R[3,4] = 100\n",
    "R[1,4] = 200\n",
    "R[4,5] = 100\n",
    "R[4,6] = 210\n",
    "R[6,7] = 20\n",
    "R[1,0] = 10\n",
    "R[2,1] = 20\n",
    "R[4,3] = 100\n",
    "R[4,1] = 200\n",
    "R[5,4] = 100\n",
    "R[6,4] = 210\n",
    "R[7,6] = 20\n",
    "print(R)"
   ]
  },
  {
   "cell_type": "code",
   "execution_count": 16,
   "metadata": {},
   "outputs": [
    {
     "data": {
      "image/png": "[encoded data removed]",
      "text/plain": [
       "<Figure size 432x288 with 1 Axes>"
      ]
     },
     "metadata": {},
     "output_type": "display_data"
    },
    {
     "data": {
      "image/png": "[encoded data removed]",
      "text/plain": [
       "<Figure size 432x288 with 1 Axes>"
      ]
     },
     "metadata": {},
     "output_type": "display_data"
    },
    {
     "data": {
      "image/png": "[encoded data removed]",
      "text/plain": [
       "<Figure size 432x288 with 1 Axes>"
      ]
     },
     "metadata": {},
     "output_type": "display_data"
    },
    {
     "data": {
      "image/png": "[encoded data removed]",
      "text/plain": [
       "<Figure size 432x288 with 1 Axes>"
      ]
     },
     "metadata": {},
     "output_type": "display_data"
    },
    {
     "data": {
      "image/png": "[encoded data removed]",
      "text/plain": [
       "<Figure size 432x288 with 1 Axes>"
      ]
     },
     "metadata": {},
     "output_type": "display_data"
    }
   ],
   "source": [
    "draw_graph(A2)\n",
    "draw_graph(MD['M0'])\n",
    "draw_graph(MD['M1'])\n",
    "draw_graph(MD['M2'])\n",
    "draw_graph(MD['M3'])"
   ]
  },
  {
   "cell_type": "code",
   "execution_count": 44,
   "metadata": {},
   "outputs": [],
   "source": [
    "def equations(MD, R):\n",
    "    eq = {}\n",
    "    for i in range(len(MD)):\n",
    "        count = 0\n",
    "        for j in range(MD['M'+str(i)].shape[0]):\n",
    "            for k in range(MD['M'+str(i)].shape[0]):\n",
    "                if j<=k:\n",
    "                    if MD['M'+str(i)][j,k] == 1:\n",
    "                        if count == 0:\n",
    "                            temp = '(' + ('I'+str(i))*int(MD['M'+str(i)][j,k]) + ('-I'+str((i+1)%4))*int(MD['M'+str((i+1)%4)][j,k]) + ('-I'+str((i+2)%4))*int(MD['M'+str((i+2)%4)][j,k]) + ('-I'+str((i+3)%4))*int(MD['M'+str((i+3)%4)][j,k]) + ')'\n",
    "                            temp = temp + str('*') + str(R[j,k])\n",
    "                            eq[i] = temp\n",
    "                            count = 1\n",
    "                            \n",
    "                        else:\n",
    "                            temp = '(' + ('I'+str(i))*int(MD['M'+str(i)][j,k]) + ('-I'+str((i+1)%4))*int(MD['M'+str((i+1)%4)][j,k]) + ('-I'+str((i+2)%4))*int(MD['M'+str((i+2)%4)][j,k]) + ('-I'+str((i+3)%4))*int(MD['M'+str((i+3)%4)][j,k]) + ')'\n",
    "                            temp = temp + str('*') + str(R[j,k])\n",
    "                            eq[i] = eq[i] + ' + ' + temp\n",
    "    print(eq)\n",
    "    return eq"
   ]
  },
  {
   "cell_type": "code",
   "execution_count": 45,
   "metadata": {},
   "outputs": [
    {
     "data": {
      "text/plain": [
       "array([[0., 0., 0., 0., 0., 0., 0., 0.],\n",
       "       [0., 0., 0., 0., 0., 0., 0., 0.],\n",
       "       [0., 0., 0., 0., 0., 0., 0., 0.],\n",
       "       [0., 0., 0., 0., 1., 0., 1., 0.],\n",
       "       [0., 0., 0., 1., 0., 0., 1., 0.],\n",
       "       [0., 0., 0., 0., 0., 0., 0., 0.],\n",
       "       [0., 0., 0., 1., 1., 0., 0., 0.],\n",
       "       [0., 0., 0., 0., 0., 0., 0., 0.]])"
      ]
     },
     "execution_count": 45,
     "metadata": {},
     "output_type": "execute_result"
    }
   ],
   "source": [
    "MD['M0']"
   ]
  },
  {
   "cell_type": "code",
   "execution_count": 46,
   "metadata": {},
   "outputs": [
    {
     "name": "stdout",
     "output_type": "stream",
     "text": [
      "{0: '(I0-I1)*100 + (I0)*0 + (I0-I3)*210', 1: '(I1)*10 + (I1)*0 + (I1-I2)*200 + (I1-I0)*100', 2: '(I2)*20 + (I2-I1)*200 + (I2)*0 + (I2-I3)*100', 3: '(I3-I2)*100 + (I3-I0)*210 + (I3)*0 + (I3)*20'}\n"
     ]
    }
   ],
   "source": [
    "eq = equations(MD, R)"
   ]
  },
  {
   "cell_type": "code",
   "execution_count": 40,
   "metadata": {},
   "outputs": [],
   "source": [
    "from numpy import linalg\n",
    "\n",
    "system = [[310,-100,0,-210],[-100,310,-200,0],[0,-200,320,-100],[-210,0,-100,330]]\n",
    "nmat = np.array(system)\n",
    "vals = np.array([10,0,0,0])\n",
    "answer = linalg.solve(nmat,vals)"
   ]
  },
  {
   "cell_type": "code",
   "execution_count": 41,
   "metadata": {},
   "outputs": [
    {
     "data": {
      "text/plain": [
       "array([0.23874266, 0.19987217, 0.19043054, 0.20963337])"
      ]
     },
     "execution_count": 41,
     "metadata": {},
     "output_type": "execute_result"
    }
   ],
   "source": [
    "answer"
   ]
  },
  {
   "cell_type": "code",
   "execution_count": null,
   "metadata": {},
   "outputs": [],
   "source": []
  }
 ],
 "metadata": {
  "kernelspec": {
   "display_name": "Python 3",
   "language": "python",
   "name": "python3"
  },
  "language_info": {
   "codemirror_mode": {
    "name": "ipython",
    "version": 3
   },
   "file_extension": ".py",
   "mimetype": "text/x-python",
   "name": "python",
   "nbconvert_exporter": "python",
   "pygments_lexer": "ipython3",
   "version": "3.7.3"
  }
 },
 "nbformat": 4,
 "nbformat_minor": 2
}
