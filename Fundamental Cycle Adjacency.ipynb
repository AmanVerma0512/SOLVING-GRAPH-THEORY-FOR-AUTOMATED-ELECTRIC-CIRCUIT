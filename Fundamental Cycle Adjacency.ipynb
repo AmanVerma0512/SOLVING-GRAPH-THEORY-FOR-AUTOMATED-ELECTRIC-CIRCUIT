{
 "cells": [
  {
   "cell_type": "code",
   "execution_count": 1,
   "metadata": {},
   "outputs": [],
   "source": [
    "import numpy as np\n",
    "import matplotlib.pyplot as plt\n",
    "import networkx as nx"
   ]
  },
  {
   "cell_type": "code",
   "execution_count": 2,
   "metadata": {},
   "outputs": [],
   "source": [
    "A2=np.array([[ 0,  1,  0,  1,  0,  0,  0,  0],\n",
    "             [ 1,  0,  1,  0,  1,  0,  0,  0],\n",
    "             [ 0,  1,  0,  0,  0,  1,  0,  0],\n",
    "             [ 1,  0,  0,  0,  1,  0,  1,  0],\n",
    "             [ 0,  1,  0,  1,  0,  1,  1,  0],\n",
    "             [ 0,  0,  1,  0,  1,  0,  0,  1],\n",
    "             [ 0,  0,  0,  1,  1,  0,  0,  1],\n",
    "             [ 0,  0,  0,  0,  0,  1,  1,  0]])"
   ]
  },
  {
   "cell_type": "code",
   "execution_count": 3,
   "metadata": {},
   "outputs": [],
   "source": [
    "def draw_graph(A):\n",
    "    plt.figure()\n",
    "    g = nx.Graph()\n",
    "    for i in range(A.shape[0]):\n",
    "        for j in range(A.shape[0]):\n",
    "                if A[i,j] == 1:\n",
    "                    g.add_edge(i+1,j+1)\n",
    "    nx.draw_spectral(g, with_labels=True)"
   ]
  },
  {
   "cell_type": "code",
   "execution_count": 4,
   "metadata": {},
   "outputs": [],
   "source": [
    "def convert_adjacency(A):\n",
    "    graph = []\n",
    "    for i in range(A.shape[0]):\n",
    "        for j in range(A.shape[0]):\n",
    "            if i <= j:\n",
    "                if A[i,j] == 1:\n",
    "                    graph.append([i+1,j+1])\n",
    "    return graph"
   ]
  },
  {
   "cell_type": "code",
   "execution_count": 5,
   "metadata": {
    "scrolled": true
   },
   "outputs": [
    {
     "name": "stdout",
     "output_type": "stream",
     "text": [
      "1,4,5,6,3,2\n",
      "1,4,7,5,6,3,2\n",
      "1,4,7,8,6,3,2\n",
      "1,4,5,7,8,6,3,2\n",
      "1,4,5,2\n",
      "1,4,7,8,6,5,2\n",
      "1,4,7,5,2\n",
      "2,5,6,3\n",
      "2,5,4,7,8,6,3\n",
      "2,5,7,8,6,3\n",
      "4,7,8,6,5\n",
      "4,7,5\n",
      "5,7,8,6\n"
     ]
    }
   ],
   "source": [
    "graph = convert_adjacency(A2)\n",
    "cycles = []\n",
    "def main():\n",
    "    global graph  \n",
    "    global cycles\n",
    "    for edge in graph:\n",
    "        for node in edge:\n",
    "            findNewCycles([node])\n",
    "#     return cycles\n",
    "    for cy in cycles:\n",
    "        path = [str(node) for node in cy]\n",
    "        s = \",\".join(path)\n",
    "        print(s)\n",
    "\n",
    "def findNewCycles(path):\n",
    "    start_node = path[0]\n",
    "    next_node= None\n",
    "    sub = []\n",
    "\n",
    "    #visit each edge and each node of each edge\n",
    "    for edge in graph:\n",
    "        node1, node2 = edge\n",
    "        if start_node in edge:\n",
    "                if node1 == start_node:\n",
    "                    next_node = node2\n",
    "                else:\n",
    "                    next_node = node1\n",
    "                if not visited(next_node, path):\n",
    "                        # neighbor node not on path yet\n",
    "                        sub = [next_node]\n",
    "                        sub.extend(path)\n",
    "                        # explore extended path\n",
    "                        findNewCycles(sub);\n",
    "                elif len(path) > 2  and next_node == path[-1]:\n",
    "                        # cycle found\n",
    "                        p = rotate_to_smallest(path);\n",
    "                        inv = invert(p)\n",
    "                        if isNew(p) and isNew(inv):\n",
    "                            cycles.append(p)\n",
    "\n",
    "def invert(path):\n",
    "    return rotate_to_smallest(path[::-1])\n",
    "\n",
    "#  rotate cycle path such that it begins with the smallest node\n",
    "def rotate_to_smallest(path):\n",
    "    n = path.index(min(path))\n",
    "    return path[n:]+path[:n]\n",
    "\n",
    "def isNew(path):\n",
    "    return not path in cycles\n",
    "\n",
    "def visited(node, path):\n",
    "    return node in path\n",
    "\n",
    "main()"
   ]
  },
  {
   "cell_type": "code",
   "execution_count": 6,
   "metadata": {},
   "outputs": [
    {
     "data": {
      "text/plain": [
       "[[4, 7, 5],\n",
       " [1, 4, 5, 2],\n",
       " [2, 5, 6, 3],\n",
       " [5, 7, 8, 6],\n",
       " [1, 4, 7, 5, 2],\n",
       " [4, 7, 8, 6, 5],\n",
       " [1, 4, 5, 6, 3, 2],\n",
       " [2, 5, 7, 8, 6, 3],\n",
       " [1, 4, 7, 5, 6, 3, 2],\n",
       " [1, 4, 7, 8, 6, 3, 2],\n",
       " [1, 4, 7, 8, 6, 5, 2],\n",
       " [2, 5, 4, 7, 8, 6, 3],\n",
       " [1, 4, 5, 7, 8, 6, 3, 2]]"
      ]
     },
     "execution_count": 6,
     "metadata": {},
     "output_type": "execute_result"
    }
   ],
   "source": [
    "cycles.sort(key=len)\n",
    "cycles"
   ]
  },
  {
   "cell_type": "code",
   "execution_count": 7,
   "metadata": {},
   "outputs": [],
   "source": [
    "def select_fundamental_cycles(cycles):\n",
    "    fundamental_cycle_set = []\n",
    "    cycles.sort(key=len)\n",
    "    for i in range(len(cycles)):\n",
    "        if(i<4):\n",
    "            fundamental_cycle_set.append(cycles[i])\n",
    "    return fundamental_cycle_set  "
   ]
  },
  {
   "cell_type": "code",
   "execution_count": 8,
   "metadata": {},
   "outputs": [
    {
     "data": {
      "text/plain": [
       "[[4, 7, 5], [1, 4, 5, 2], [2, 5, 6, 3], [5, 7, 8, 6]]"
      ]
     },
     "execution_count": 8,
     "metadata": {},
     "output_type": "execute_result"
    }
   ],
   "source": [
    "sets = select_fundamental_cycles(cycles)\n",
    "sets"
   ]
  },
  {
   "cell_type": "code",
   "execution_count": 9,
   "metadata": {},
   "outputs": [],
   "source": [
    "def extend_length(sets):\n",
    "    \n",
    "    for i in range(len(sets)):\n",
    "        for j in range(8-len(sets[i])):\n",
    "             sets[i].extend([0])\n",
    "    return sets"
   ]
  },
  {
   "cell_type": "code",
   "execution_count": 10,
   "metadata": {},
   "outputs": [
    {
     "data": {
      "text/plain": [
       "[[4, 7, 5, 0, 0, 0, 0, 0],\n",
       " [1, 4, 5, 2, 0, 0, 0, 0],\n",
       " [2, 5, 6, 3, 0, 0, 0, 0],\n",
       " [5, 7, 8, 6, 0, 0, 0, 0]]"
      ]
     },
     "execution_count": 10,
     "metadata": {},
     "output_type": "execute_result"
    }
   ],
   "source": [
    "c = extend_length(sets)\n",
    "c"
   ]
  },
  {
   "cell_type": "code",
   "execution_count": 11,
   "metadata": {},
   "outputs": [],
   "source": [
    "def convert_to_adjacency(cycles, A):\n",
    "    \n",
    "    no_of_cycles = len(cycles)\n",
    "    no_of_vertices = (A.shape[0])\n",
    "    \n",
    "    MD = {}\n",
    "\n",
    "    for k in range(len(cycles)):\n",
    "        MD['M'+str(k)] = np.zeros((no_of_vertices,no_of_vertices),dtype='object')\n",
    "        for j in range(no_of_vertices):\n",
    "            if(cycles[k][j]!=0):\n",
    "                if(cycles[k][j+1]!=0):\n",
    "                    MD[\"M\"+str(k)][cycles[k][j]-1][cycles[k][j+1]-1] = 1\n",
    "                    MD[\"M\"+str(k)][cycles[k][j+1]-1][cycles[k][j]-1] = 1\n",
    "                else:\n",
    "                    MD[\"M\"+str(k)][cycles[k][j]-1][cycles[k][0]-1] = 1\n",
    "                    MD[\"M\"+str(k)][cycles[k][0]-1][cycles[k][j]-1] = 1  \n",
    "                    \n",
    "    return MD"
   ]
  },
  {
   "cell_type": "code",
   "execution_count": 12,
   "metadata": {},
   "outputs": [],
   "source": [
    "MD = convert_to_adjacency(c, A2)"
   ]
  },
  {
   "cell_type": "code",
   "execution_count": 13,
   "metadata": {},
   "outputs": [
    {
     "data": {
      "text/plain": [
       "{'M0': array([[0, 0, 0, 0, 0, 0, 0, 0],\n",
       "        [0, 0, 0, 0, 0, 0, 0, 0],\n",
       "        [0, 0, 0, 0, 0, 0, 0, 0],\n",
       "        [0, 0, 0, 0, 1, 0, 1, 0],\n",
       "        [0, 0, 0, 1, 0, 0, 1, 0],\n",
       "        [0, 0, 0, 0, 0, 0, 0, 0],\n",
       "        [0, 0, 0, 1, 1, 0, 0, 0],\n",
       "        [0, 0, 0, 0, 0, 0, 0, 0]], dtype=object),\n",
       " 'M1': array([[0, 1, 0, 1, 0, 0, 0, 0],\n",
       "        [1, 0, 0, 0, 1, 0, 0, 0],\n",
       "        [0, 0, 0, 0, 0, 0, 0, 0],\n",
       "        [1, 0, 0, 0, 1, 0, 0, 0],\n",
       "        [0, 1, 0, 1, 0, 0, 0, 0],\n",
       "        [0, 0, 0, 0, 0, 0, 0, 0],\n",
       "        [0, 0, 0, 0, 0, 0, 0, 0],\n",
       "        [0, 0, 0, 0, 0, 0, 0, 0]], dtype=object),\n",
       " 'M2': array([[0, 0, 0, 0, 0, 0, 0, 0],\n",
       "        [0, 0, 1, 0, 1, 0, 0, 0],\n",
       "        [0, 1, 0, 0, 0, 1, 0, 0],\n",
       "        [0, 0, 0, 0, 0, 0, 0, 0],\n",
       "        [0, 1, 0, 0, 0, 1, 0, 0],\n",
       "        [0, 0, 1, 0, 1, 0, 0, 0],\n",
       "        [0, 0, 0, 0, 0, 0, 0, 0],\n",
       "        [0, 0, 0, 0, 0, 0, 0, 0]], dtype=object),\n",
       " 'M3': array([[0, 0, 0, 0, 0, 0, 0, 0],\n",
       "        [0, 0, 0, 0, 0, 0, 0, 0],\n",
       "        [0, 0, 0, 0, 0, 0, 0, 0],\n",
       "        [0, 0, 0, 0, 0, 0, 0, 0],\n",
       "        [0, 0, 0, 0, 0, 1, 1, 0],\n",
       "        [0, 0, 0, 0, 1, 0, 0, 1],\n",
       "        [0, 0, 0, 0, 1, 0, 0, 1],\n",
       "        [0, 0, 0, 0, 0, 1, 1, 0]], dtype=object)}"
      ]
     },
     "execution_count": 13,
     "metadata": {},
     "output_type": "execute_result"
    }
   ],
   "source": [
    "MD"
   ]
  },
  {
   "cell_type": "code",
   "execution_count": 14,
   "metadata": {},
   "outputs": [
    {
     "data": {
      "image/png": "[encoded data removed]",
      "text/plain": [
       "<Figure size 432x288 with 1 Axes>"
      ]
     },
     "metadata": {},
     "output_type": "display_data"
    }
   ],
   "source": [
    "draw_graph(A2)"
   ]
  },
  {
   "cell_type": "code",
   "execution_count": 16,
   "metadata": {},
   "outputs": [],
   "source": [
    "# def first_link(arr, N):\n",
    "#     for i in range(0,N):\n",
    "#         for j in range(0,N):\n",
    "#             if arr[i][j] == 1:\n",
    "#                arr[j][i] = 0\n",
    "#                 return (i,j)"
   ]
  },
  {
   "cell_type": "code",
   "execution_count": 17,
   "metadata": {},
   "outputs": [],
   "source": [
    "# def loop_orientation(D, m, N):\n",
    "#     for k in range(0,m):\n",
    "#         arr = D[k]  # arr is current independent loop\n",
    "#         i,j = first_link(arr,N)\n",
    "#         for l in range(0,N):\n",
    "#             for n in range(0,N):\n",
    "#                 if arr[j][n] == 1:\n",
    "#                     arr[n][j] = 0\n",
    "#                     j = n\n",
    "#         D[k] = arr\n",
    "#     return D        "
   ]
  },
  {
   "cell_type": "code",
   "execution_count": 18,
   "metadata": {},
   "outputs": [],
   "source": [
    "# import numpy as np\n",
    "# def main_circuit(D,m,N):\n",
    "#     A = np.zeros((N,N))\n",
    "#     for i in range(0,N):\n",
    "#         for j in range(0,N): \n",
    "#             for k in range(0,m):\n",
    "#                 if D[k][i][j] == 1:\n",
    "#                     A[i][j] = 1\n",
    "                    \n",
    "#     return(A)"
   ]
  },
  {
   "cell_type": "code",
   "execution_count": 19,
   "metadata": {},
   "outputs": [],
   "source": [
    "# def main():\n",
    "#     m = 4\n",
    "#     N = 8\n",
    "#     D = [MD['M0'],MD['M1'],MD['M2'],MD['M3']]\n",
    "#     D = loop_orientation(D,m,N)\n",
    "#     T = main_circuit(D,m,N)\n",
    "#     return T"
   ]
  },
  {
   "cell_type": "code",
   "execution_count": 20,
   "metadata": {},
   "outputs": [],
   "source": [
    "# if __name__ == '__main__':\n",
    "#     X = main()"
   ]
  },
  {
   "cell_type": "code",
   "execution_count": 21,
   "metadata": {},
   "outputs": [],
   "source": [
    "###X"
   ]
  },
  {
   "cell_type": "code",
   "execution_count": 22,
   "metadata": {},
   "outputs": [],
   "source": [
    "###draw_graph(X)"
   ]
  },
  {
   "cell_type": "code",
   "execution_count": 23,
   "metadata": {},
   "outputs": [
    {
     "data": {
      "image/png": "[encoded data removed]",
      "text/plain": [
       "<Figure size 432x288 with 1 Axes>"
      ]
     },
     "metadata": {},
     "output_type": "display_data"
    }
   ],
   "source": [
    "draw_graph(A2)"
   ]
  },
  {
   "cell_type": "code",
   "execution_count": 24,
   "metadata": {},
   "outputs": [
    {
     "data": {
      "text/plain": [
       "array([[0, 0, 0, 0, 0, 0, 0, 0],\n",
       "       [0, 0, 0, 0, 0, 0, 0, 0],\n",
       "       [0, 0, 0, 0, 0, 0, 0, 0],\n",
       "       [0, 0, 0, 0, 1, 0, 1, 0],\n",
       "       [0, 0, 0, 1, 0, 0, 1, 0],\n",
       "       [0, 0, 0, 0, 0, 0, 0, 0],\n",
       "       [0, 0, 0, 1, 1, 0, 0, 0],\n",
       "       [0, 0, 0, 0, 0, 0, 0, 0]], dtype=object)"
      ]
     },
     "execution_count": 24,
     "metadata": {},
     "output_type": "execute_result"
    }
   ],
   "source": [
    "MD['M0']"
   ]
  },
  {
   "cell_type": "code",
   "execution_count": 127,
   "metadata": {},
   "outputs": [],
   "source": [
    "def fun(A,c):\n",
    "    B = np.copy(A)\n",
    "    for i in range(A.shape[0]):\n",
    "        for j in range(A.shape[0]):\n",
    "            if (B[i][j] == 1):\n",
    "                B[i][j] = c\n",
    "            else:\n",
    "                B[i][j] = ''         \n",
    "    return B"
   ]
  },
  {
   "cell_type": "code",
   "execution_count": 128,
   "metadata": {},
   "outputs": [],
   "source": [
    "Y = fun(MD['M0'],'i1')"
   ]
  },
  {
   "cell_type": "code",
   "execution_count": 67,
   "metadata": {},
   "outputs": [
    {
     "data": {
      "text/plain": [
       "array([[0, 0, 0, 0, 0, 0, 0, 0],\n",
       "       [0, 0, 0, 0, 0, 0, 0, 0],\n",
       "       [0, 0, 0, 0, 0, 0, 0, 0],\n",
       "       [0, 0, 0, 0, 1, 0, 1, 0],\n",
       "       [0, 0, 0, 1, 0, 0, 1, 0],\n",
       "       [0, 0, 0, 0, 0, 0, 0, 0],\n",
       "       [0, 0, 0, 1, 1, 0, 0, 0],\n",
       "       [0, 0, 0, 0, 0, 0, 0, 0]], dtype=object)"
      ]
     },
     "execution_count": 67,
     "metadata": {},
     "output_type": "execute_result"
    }
   ],
   "source": [
    "MD['M0']"
   ]
  },
  {
   "cell_type": "code",
   "execution_count": 68,
   "metadata": {},
   "outputs": [
    {
     "name": "stdout",
     "output_type": "stream",
     "text": [
      "[['' '' '' '' '' '' '' '']\n",
      " ['' '' '' '' '' '' '' '']\n",
      " ['' '' '' '' '' '' '' '']\n",
      " ['' '' '' '' '-i2)' '' '' '']\n",
      " ['' '' '' '-i2)' '' '' '' '']\n",
      " ['' '' '' '' '' '' '' '']\n",
      " ['' '' '' '' '' '' '' '']\n",
      " ['' '' '' '' '' '' '' '']]\n"
     ]
    }
   ],
   "source": [
    "Z = fun(np.multiply(MD['M0'],MD['M1']),'-i2)')"
   ]
  },
  {
   "cell_type": "code",
   "execution_count": 69,
   "metadata": {},
   "outputs": [
    {
     "data": {
      "text/plain": [
       "array([['', '', '', '', '', '', '', ''],\n",
       "       ['', '', '', '', '', '', '', ''],\n",
       "       ['', '', '', '', '', '', '', ''],\n",
       "       ['', '', '', '', '-i2)', '', '', ''],\n",
       "       ['', '', '', '-i2)', '', '', '', ''],\n",
       "       ['', '', '', '', '', '', '', ''],\n",
       "       ['', '', '', '', '', '', '', ''],\n",
       "       ['', '', '', '', '', '', '', '']], dtype=object)"
      ]
     },
     "execution_count": 69,
     "metadata": {},
     "output_type": "execute_result"
    }
   ],
   "source": [
    "Z"
   ]
  },
  {
   "cell_type": "code",
   "execution_count": 70,
   "metadata": {},
   "outputs": [
    {
     "name": "stdout",
     "output_type": "stream",
     "text": [
      "[['' '' '' '' '' '' '' '']\n",
      " ['' '' '' '' '' '' '' '']\n",
      " ['' '' '' '' '' '' '' '']\n",
      " ['' '' '' '' '' '' '' '']\n",
      " ['' '' '' '' '' '' '' '']\n",
      " ['' '' '' '' '' '' '' '']\n",
      " ['' '' '' '' '' '' '' '']\n",
      " ['' '' '' '' '' '' '' '']]\n"
     ]
    }
   ],
   "source": [
    "U = fun(np.multiply(MD['M0'],MD['M2']),'-i3)')"
   ]
  },
  {
   "cell_type": "code",
   "execution_count": 86,
   "metadata": {
    "scrolled": true
   },
   "outputs": [
    {
     "name": "stdout",
     "output_type": "stream",
     "text": [
      "[['' '' '' '' '' '' '' '']\n",
      " ['' '' '' '' '' '' '' '']\n",
      " ['' '' '' '' '' '' '' '']\n",
      " ['' '' '' '' '' '' '' '']\n",
      " ['' '' '' '' '' '' '-i4)' '']\n",
      " ['' '' '' '' '' '' '' '']\n",
      " ['' '' '' '' '-i4)' '' '' '']\n",
      " ['' '' '' '' '' '' '' '']]\n"
     ]
    }
   ],
   "source": [
    "W = fun(np.multiply(MD['M0'],MD['M3']),'-i4)') "
   ]
  },
  {
   "cell_type": "code",
   "execution_count": 87,
   "metadata": {},
   "outputs": [],
   "source": [
    "EL1 = Y+Z+U+W"
   ]
  },
  {
   "cell_type": "code",
   "execution_count": 88,
   "metadata": {},
   "outputs": [
    {
     "data": {
      "text/plain": [
       "array([['', '', '', '', '', '', '', ''],\n",
       "       ['', '', '', '', '', '', '', ''],\n",
       "       ['', '', '', '', '', '', '', ''],\n",
       "       ['', '', '', '', 'i1-i2)', '', 'i1', ''],\n",
       "       ['', '', '', 'i1-i2)', '', '', 'i1-i4)', ''],\n",
       "       ['', '', '', '', '', '', '', ''],\n",
       "       ['', '', '', 'i1', 'i1-i4)', '', '', ''],\n",
       "       ['', '', '', '', '', '', '', '']], dtype=object)"
      ]
     },
     "execution_count": 88,
     "metadata": {},
     "output_type": "execute_result"
    }
   ],
   "source": [
    "EL1"
   ]
  },
  {
   "cell_type": "code",
   "execution_count": 89,
   "metadata": {},
   "outputs": [],
   "source": [
    "R = np.zeros((8,8),dtype='object')"
   ]
  },
  {
   "cell_type": "code",
   "execution_count": 90,
   "metadata": {},
   "outputs": [],
   "source": [
    "R[0,1] = str(10)+'*('\n",
    "R[1,2] = str(20)+'*('\n",
    "R[3,4] = str(100)+'*('\n",
    "R[1,4] = str(200)+'*('\n",
    "R[4,5] = str(100)+'*('\n",
    "R[4,6] = str(210)+'*('\n",
    "R[6,7] = str(20)+'*('"
   ]
  },
  {
   "cell_type": "code",
   "execution_count": 91,
   "metadata": {},
   "outputs": [
    {
     "data": {
      "image/png": "[encoded data removed]",
      "text/plain": [
       "<Figure size 432x288 with 1 Axes>"
      ]
     },
     "metadata": {},
     "output_type": "display_data"
    }
   ],
   "source": [
    "draw_graph(A2)"
   ]
  },
  {
   "cell_type": "code",
   "execution_count": 92,
   "metadata": {},
   "outputs": [],
   "source": [
    "for i in range(8):\n",
    "    for j in range(8):\n",
    "        if(R[i][j]==0):\n",
    "            R[i,j]=''"
   ]
  },
  {
   "cell_type": "code",
   "execution_count": 93,
   "metadata": {},
   "outputs": [],
   "source": [
    "for i in range(8):\n",
    "    for j in range(8):\n",
    "        if(i>j):\n",
    "            Res[i,j]=''"
   ]
  },
  {
   "cell_type": "code",
   "execution_count": 94,
   "metadata": {
    "scrolled": true
   },
   "outputs": [
    {
     "data": {
      "text/plain": [
       "array([['', '10*(', '', '', '', '', '', ''],\n",
       "       ['', '', '20*(', '', '200*(', '', '', ''],\n",
       "       ['', '', '', '', '', '', '', ''],\n",
       "       ['', '', '', '', '100*(i1-i2)', '', 'i1', ''],\n",
       "       ['', '', '', '', '', '100*(', '210*(i1-i4)*', ''],\n",
       "       ['', '', '', '', '', '', '', ''],\n",
       "       ['', '', '', '', '', '', '', '20*('],\n",
       "       ['', '', '', '', '', '', '', '']], dtype=object)"
      ]
     },
     "execution_count": 94,
     "metadata": {},
     "output_type": "execute_result"
    }
   ],
   "source": [
    "Res"
   ]
  },
  {
   "cell_type": "code",
   "execution_count": 95,
   "metadata": {},
   "outputs": [],
   "source": [
    "Res = np.add(R,EL1)    "
   ]
  },
  {
   "cell_type": "code",
   "execution_count": 96,
   "metadata": {},
   "outputs": [
    {
     "data": {
      "text/plain": [
       "array([['', '10*(', '', '', '', '', '', ''],\n",
       "       ['', '', '20*(', '', '200*(', '', '', ''],\n",
       "       ['', '', '', '', '', '', '', ''],\n",
       "       ['', '', '', '', '100*(i1-i2)', '', 'i1', ''],\n",
       "       ['', '', '', 'i1-i2)', '', '100*(', '210*(i1-i4)', ''],\n",
       "       ['', '', '', '', '', '', '', ''],\n",
       "       ['', '', '', 'i1', 'i1-i4)', '', '', '20*('],\n",
       "       ['', '', '', '', '', '', '', '']], dtype=object)"
      ]
     },
     "execution_count": 96,
     "metadata": {},
     "output_type": "execute_result"
    }
   ],
   "source": [
    "Res"
   ]
  },
  {
   "cell_type": "code",
   "execution_count": 97,
   "metadata": {},
   "outputs": [],
   "source": [
    "for i in range(8):\n",
    "    for j in range(8):\n",
    "        if(EL1[i][j]==''):\n",
    "            Res[i,j]=''"
   ]
  },
  {
   "cell_type": "code",
   "execution_count": 98,
   "metadata": {},
   "outputs": [
    {
     "data": {
      "text/plain": [
       "array([['', '', '', '', '', '', '', ''],\n",
       "       ['', '', '', '', '', '', '', ''],\n",
       "       ['', '', '', '', '', '', '', ''],\n",
       "       ['', '', '', '', '100*(i1-i2)', '', 'i1', ''],\n",
       "       ['', '', '', 'i1-i2)', '', '', '210*(i1-i4)', ''],\n",
       "       ['', '', '', '', '', '', '', ''],\n",
       "       ['', '', '', 'i1', 'i1-i4)', '', '', ''],\n",
       "       ['', '', '', '', '', '', '', '']], dtype=object)"
      ]
     },
     "execution_count": 98,
     "metadata": {},
     "output_type": "execute_result"
    }
   ],
   "source": [
    "Res"
   ]
  },
  {
   "cell_type": "code",
   "execution_count": 100,
   "metadata": {},
   "outputs": [],
   "source": [
    "for i in range(8):\n",
    "    for j in range(8):\n",
    "        if(EL1[i][j]!='' and R[i][j]==''):\n",
    "            Res[i,j]=''"
   ]
  },
  {
   "cell_type": "code",
   "execution_count": 101,
   "metadata": {},
   "outputs": [
    {
     "data": {
      "text/plain": [
       "array([['', '', '', '', '', '', '', ''],\n",
       "       ['', '', '', '', '', '', '', ''],\n",
       "       ['', '', '', '', '', '', '', ''],\n",
       "       ['', '', '', '', '100*(i1-i2)', '', '', ''],\n",
       "       ['', '', '', '', '', '', '210*(i1-i4)', ''],\n",
       "       ['', '', '', '', '', '', '', ''],\n",
       "       ['', '', '', '', '', '', '', ''],\n",
       "       ['', '', '', '', '', '', '', '']], dtype=object)"
      ]
     },
     "execution_count": 101,
     "metadata": {},
     "output_type": "execute_result"
    }
   ],
   "source": [
    "Res"
   ]
  },
  {
   "cell_type": "code",
   "execution_count": 121,
   "metadata": {},
   "outputs": [
    {
     "name": "stdout",
     "output_type": "stream",
     "text": [
      "2\n"
     ]
    }
   ],
   "source": [
    "eq = ''\n",
    "c = 0\n",
    "s = 0\n",
    "for i in range(8):\n",
    "    for j in range(8):\n",
    "        if(Res[i][j]!=''):\n",
    "            s = s+1    \n",
    "print(s)"
   ]
  },
  {
   "cell_type": "code",
   "execution_count": 123,
   "metadata": {},
   "outputs": [],
   "source": [
    "for i in range(8):\n",
    "    for j in range(8):\n",
    "        if(Res[i][j]!=''):\n",
    "            c = c+1\n",
    "            eq = eq + Res[i,j]\n",
    "            if(c<=s-1):\n",
    "                eq +=str('+')"
   ]
  },
  {
   "cell_type": "code",
   "execution_count": 124,
   "metadata": {},
   "outputs": [
    {
     "data": {
      "text/plain": [
       "'100*(i1-i2)+210*(i1-i4)'"
      ]
     },
     "execution_count": 124,
     "metadata": {},
     "output_type": "execute_result"
    }
   ],
   "source": [
    "eq"
   ]
  },
  {
   "cell_type": "code",
   "execution_count": 126,
   "metadata": {},
   "outputs": [
    {
     "data": {
      "text/plain": [
       "'END'"
      ]
     },
     "execution_count": 126,
     "metadata": {},
     "output_type": "execute_result"
    }
   ],
   "source": [
    "\"END\""
   ]
  },
  {
   "cell_type": "code",
   "execution_count": null,
   "metadata": {},
   "outputs": [],
   "source": [
    "def equation_solver(C,c1,c2,c3,c4):\n",
    "    "
   ]
  }
 ],
 "metadata": {
  "kernelspec": {
   "display_name": "Python 3",
   "language": "python",
   "name": "python3"
  },
  "language_info": {
   "codemirror_mode": {
    "name": "ipython",
    "version": 3
   },
   "file_extension": ".py",
   "mimetype": "text/x-python",
   "name": "python",
   "nbconvert_exporter": "python",
   "pygments_lexer": "ipython3",
   "version": "3.7.3"
  }
 },
 "nbformat": 4,
 "nbformat_minor": 2
}
